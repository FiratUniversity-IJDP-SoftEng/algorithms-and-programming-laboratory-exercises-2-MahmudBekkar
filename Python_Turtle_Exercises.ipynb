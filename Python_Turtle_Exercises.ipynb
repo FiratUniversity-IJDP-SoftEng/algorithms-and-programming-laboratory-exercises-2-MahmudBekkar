{
  "cells": [
    {
      "cell_type": "markdown",
      "metadata": {
        "id": "ytbzyl3rnDRY"
      },
      "source": [
        "# Python Turtle Exercises\n",
        "\n",
        "This assignment aims to improve your algorithmic skills by drawing various geometric patterns using the Python Turtle library.  \n",
        "Each exercise includes a description and a code cell for your solutions.\n",
        "\n",
        "# Exercise 1: Drawing a Star\n",
        "## Description:\n",
        "Design an algorithm to draw a five-pointed star. Calculate the angle and line length correctly."
      ]
    },
    {
      "cell_type": "code",
      "execution_count": null,
      "metadata": {
        "id": "3uUSg4xJnUAw"
      },
      "outputs": [],
      "source": [
        "import turtle\n",
        "\n",
        "def drawAStar(size):\n",
        "    turtle.pendown()\n",
        "    for _ in range(5):\n",
        "        turtle.forward(size)\n",
        "        turtle.right(144) \n",
        "    turtle.penup()\n",
        "\n",
        "turtle.speed(5)\n",
        "turtle.penup()\n",
        "turtle.goto(-50, 0)  \n",
        "drawAStar(100)  \n",
        "turtle.h"
      ]
    },
    {
      "cell_type": "markdown",
      "metadata": {
        "id": "tGUI2TbgnZYu"
      },
      "source": [
        "# Exercise 2: Drawing a Spiral Square\n",
        "## Description:\n",
        "Design an algorithm to draw a spiral square with increasing side lengths. Consider how to change the turtle's turning angle and movement distance after each square."
      ]
    },
    {
      "cell_type": "code",
      "execution_count": null,
      "metadata": {
        "id": "UAinAy64neJ9"
      },
      "outputs": [],
      "source": [
        "import turtle\n",
        "\n",
        "def drawSpiralSquare(initial_length, increment, turns):\n",
        "    turtle.speed(0)  \n",
        "    length = initial_length\n",
        "    for _ in range(turns):\n",
        "        turtle.forward(length)\n",
        "        turtle.right(90)  \n",
        "        length += increment  \n",
        "turtle.penup()\n",
        "turtle.goto(-50, 50)  \n",
        "turtle.pendown()\n",
        "drawSpiralSquare(initial_length=10, increment=10, turns=50)\n",
        "turtle.hideturtle()\n",
        "turtle.done()\n"
      ]
    },
    {
      "cell_type": "markdown",
      "metadata": {
        "id": "9u3aYlazngbx"
      },
      "source": [
        "# Exercise 3: Drawing Nested Polygons\n",
        "## Description:\n",
        "Design an algorithm to draw nested polygons with the same center and number of sides. Consider how to adjust the size of each polygon and position the turtle while drawing."
      ]
    },
    {
      "cell_type": "code",
      "execution_count": null,
      "metadata": {
        "id": "GvJ5VlvJnoDz"
      },
      "outputs": [],
      "source": [
        "import turtle\n",
        "import math\n",
        "def draw_polygon(sides, side_length):\n",
        "    angle = 360 / sides\n",
        "    for _ in range(sides):\n",
        "        turtle.forward(side_length)\n",
        "        turtle.right(angle)\n",
        "def draw_nested_polygons(sides, initial_size, increment, count):\n",
        "    turtle.speed(0)\n",
        "    for i in range(count):\n",
        "        side_length = initial_size + (i * increment)\n",
        "        turtle.penup()\n",
        "        turtle.goto(-side_length / 2, -side_length / (2 * math.tan(math.pi / sides)))\n",
        "        turtle.pendown()\n",
        "        draw_polygon(sides, side_length)\n",
        "turtle.penup()\n",
        "turtle.goto(0, 0)\n",
        "turtle.pendown()\n",
        "draw_nested_polygons(sides=6, initial_size=50, increment=20, count=5)\n",
        "\n",
        "turtle.hideturtle()\n",
        "turtle.done()\n"
      ]
    },
    {
      "cell_type": "markdown",
      "metadata": {
        "id": "w4S_F7XJnpYI"
      },
      "source": [
        "# Exercise 4: Drawing a Colorful Spiral\n",
        "## Description:\n",
        "Design an algorithm to draw a spiral using different colors. Consider how to change the color at each step and create the spiral shape."
      ]
    },
    {
      "cell_type": "code",
      "execution_count": null,
      "metadata": {
        "id": "e4KCcVxpnuUn"
      },
      "outputs": [],
      "source": [
        "import turtle\n",
        "import random\n",
        "\n",
        "def drawColorfulSpiral(steps, angle, increment):\n",
        "    turtle.speed(0)\n",
        "    turtle.bgcolor(\"black\") \n",
        "    turtle.colormode(255)  \n",
        "\n",
        "    length = 5  \n",
        "    \n",
        "    for i in range(steps):\n",
        "        r = random.randint(0, 255)\n",
        "        g = random.randint(0, 255)\n",
        "        b = random.randint(0, 255)\n",
        "        \n",
        "        turtle.pencolor(r, g, b)  \n",
        "        turtle.forward(length) \n",
        "        turtle.right(angle)  \n",
        "        length += increment  \n",
        "\n",
        "turtle.penup()\n",
        "turtle.goto(0, 0)\n",
        "turtle.pendown()\n",
        "\n",
        "drawColorfulSpiral(steps=100, angle=30, increment=2)\n",
        "\n",
        "turtle.hideturtle()\n",
        "turtle.done()"
      ]
    },
    {
      "cell_type": "markdown",
      "metadata": {
        "id": "U4JZEptVn74m"
      },
      "source": [
        "# Exercise 5: Drawing a Random Pattern\n",
        "## Description:\n",
        "Design an algorithm to create an interesting pattern by randomly changing the turtle's movements and properties (color, thickness, etc.). Think about how to use randomness and vary different parameters."
      ]
    },
    {
      "cell_type": "code",
      "execution_count": null,
      "metadata": {},
      "outputs": [],
      "source": [
        "import turtle\n",
        "import random\n",
        "\n",
        "def draw_random_pattern(steps):\n",
        "    turtle.speed(0)\n",
        "    turtle.bgcolor(\"black\")\n",
        "    turtle.colormode(255)\n",
        "    for _ in range(steps):\n",
        "        r = random.randint(0, 255)\n",
        "        g = random.randint(0, 255)\n",
        "        b = random.randint(0, 255) \n",
        "        turtle.pencolor(r, g, b)\n",
        "        turtle.pensize(random.randint(1, 5)) \n",
        "        turtle.forward(random.randint(10, 50))\n",
        "        turtle.right(random.randint(0, 360))\n",
        "\n",
        "turtle.penup()\n",
        "turtle.goto(0, 0)\n",
        "turtle.pendown()\n",
        "draw_random_pattern(steps=200)\n",
        "turtle.hideturtle()\n",
        "turtle\n"
      ]
    }
  ],
  "metadata": {
    "accelerator": "GPU",
    "colab": {
      "gpuType": "T4",
      "provenance": []
    },
    "kernelspec": {
      "display_name": "tensorflow",
      "language": "python",
      "name": "python3"
    },
    "language_info": {
      "codemirror_mode": {
        "name": "ipython",
        "version": 3
      },
      "file_extension": ".py",
      "mimetype": "text/x-python",
      "name": "python",
      "nbconvert_exporter": "python",
      "pygments_lexer": "ipython3",
      "version": "3.10.12"
    }
  },
  "nbformat": 4,
  "nbformat_minor": 0
}
